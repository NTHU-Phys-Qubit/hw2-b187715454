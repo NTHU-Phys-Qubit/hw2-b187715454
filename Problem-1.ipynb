{
 "cells": [
  {
   "cell_type": "code",
   "execution_count": 8,
   "metadata": {},
   "outputs": [],
   "source": [
    "import numpy as np\n",
    "import matplotlib.pyplot as plt"
   ]
  },
  {
   "cell_type": "markdown",
   "metadata": {},
   "source": [
    "# 1D Ising model + Transfer matrix\n",
    "\n",
    "* Construct the transfer matrix at temperature $T$ with external field $B$\n",
    "* Find the eivenvalues of the transfer matrix and compare to the exact results.\n",
    "* Evaluate the partition function $Z$ at different system size $N$ and $T$, $B$. Compare to the exact results.\n",
    "* For a fixed $N$, $T$, $B$, evaluate $\\langle S_0 S_j\\rangle$ where $j=0,1,\\cdots N$. \n",
    "* Plot $\\langle S_0 S_j\\rangle$ up to $j=N/2$ and show that it decays exponentially.\n",
    "  * Please try several $N$, $T$, $B$. What is the largest $N$ you can go? What is the lowest $T$ you can go?"
   ]
  },
  {
   "cell_type": "code",
   "execution_count": 48,
   "metadata": {},
   "outputs": [],
   "source": [
    "#1\n",
    "\n",
    "J = 1\n",
    "kB = 1\n",
    "\n",
    "def transfer(T,B):\n",
    "    beta = 1/(kB*T)\n",
    "    return ([  [np.exp(beta*(J+B)),np.exp(-beta*J)],[np.exp(-beta*J),np.exp(beta*(J-B))]  ])"
   ]
  },
  {
   "cell_type": "code",
   "execution_count": 49,
   "metadata": {},
   "outputs": [
    {
     "name": "stdout",
     "output_type": "stream",
     "text": [
      "[[403.4287934927351, 0.36787944117144233], [0.36787944117144233, 0.01831563888873418]]\n"
     ]
    }
   ],
   "source": [
    "print(transfer(1,5))"
   ]
  },
  {
   "cell_type": "code",
   "execution_count": 50,
   "metadata": {},
   "outputs": [],
   "source": [
    "#2\n",
    "\n",
    "def eigenvalues(T,B):\n",
    "    return np.linalg.eigvalsh ( transfer(T,B) ) \n",
    "def exact(T,B):\n",
    "    b = 1/(kB*T)\n",
    "    lamda_1 = np.exp(b*J)*(np.cosh(b*B)+(np.sinh(b*B)**2+np.exp(-4*b*J))**0.5)\n",
    "    lamda_2 = np.exp(b*J)*(np.cosh(b*B)-(np.sinh(b*B)**2+np.exp(-4*b*J))**0.5)\n",
    "    lamda   = np.array( [lamda_1,lamda_2] )\n",
    "    return lamda"
   ]
  },
  {
   "cell_type": "code",
   "execution_count": 51,
   "metadata": {},
   "outputs": [
    {
     "name": "stdout",
     "output_type": "stream",
     "text": [
      "[4.03429129e+02 1.79801613e-02]\n"
     ]
    }
   ],
   "source": [
    "print (exact(1,5))"
   ]
  },
  {
   "cell_type": "code",
   "execution_count": 52,
   "metadata": {},
   "outputs": [
    {
     "name": "stdout",
     "output_type": "stream",
     "text": [
      "3.7733340653022634e+260\n",
      "3.7733340653022634e+260\n"
     ]
    }
   ],
   "source": [
    "# 3 \n",
    "\n",
    "def partition(T,B,N):\n",
    "    T = transfer(T,B)\n",
    "    z = np.array([[1,0]\n",
    "                  ,[0,1]])\n",
    "    for i in range (N):\n",
    "        z = np.dot(z,T)\n",
    "        \n",
    "    return np.trace(z)\n",
    "\n",
    "\n",
    "def partition_exact(T,B,N):\n",
    "    kb = 1\n",
    "    beta = 1/(kb*t)\n",
    "    lambda_1 = np.exp(beta*J)*np.cosh(beta*B) + np.sqrt(np.exp(-2*beta*J) + np.exp(2*beta*J)*np.sinh(beta*B)**2)\n",
    "    lambda_2 = np.exp(beta*J)*np.cosh(beta*B) - np.sqrt(np.exp(-2*beta*J) + np.exp(2*beta*J)*np.sinh(beta*B)**2)\n",
    "    return (lambda_1**N) + (lambda_2**N)\n",
    "\n",
    "print (partition(1,5,100))\n",
    "print (partition(1,5,100))"
   ]
  },
  {
   "cell_type": "code",
   "execution_count": 68,
   "metadata": {},
   "outputs": [
    {
     "data": {
      "image/png": "[encoded data removed]",
      "text/plain": [
       "<Figure size 432x288 with 1 Axes>"
      ]
     },
     "metadata": {
      "needs_background": "light"
     },
     "output_type": "display_data"
    }
   ],
   "source": [
    "# 4 \n",
    "\n",
    "def correlation(T,B,N):\n",
    "    kb = 1\n",
    "    beta = 1/(kb*t)\n",
    "    \n",
    "    impurity = np.array([[1,0],\n",
    "                        [0,-1]])\n",
    "    \n",
    "    T = transfer(T,B)\n",
    "    SzSz = np.zeros(N+1)\n",
    "    for j in range(N):\n",
    "        \n",
    "        z = np.array([[1,0],[0,1]])\n",
    "        \n",
    "        z_s0sj = impurity\n",
    "        for i in range(N):\n",
    "            z = np.dot(z,T)\n",
    "            if i == j:\n",
    "                z_s0sj = z_s0sj @ impurity @ T\n",
    "            else :\n",
    "                z_s0sj = np.dot(z_s0sj,T)    \n",
    "            SzSz[j] = np.trace(z_s0sj)/np.trace(z)\n",
    "    SzSz[N] = SzSz[0]\n",
    "    \n",
    "\n",
    "    plt.plot(SzSz[0:int(N/2)]) \n",
    "    \n",
    "correlation(1,0,32)\n"
   ]
  },
  {
   "cell_type": "code",
   "execution_count": 110,
   "metadata": {},
   "outputs": [
    {
     "data": {
      "image/png": "[encoded data removed]",
      "text/plain": [
       "<Figure size 432x288 with 1 Axes>"
      ]
     },
     "metadata": {
      "needs_background": "light"
     },
     "output_type": "display_data"
    }
   ],
   "source": [
    "# 5\n",
    "\n",
    "\n",
    "# LARGEST N\n",
    "correlation(1,0,629)\n",
    "\n"
   ]
  },
  {
   "cell_type": "code",
   "execution_count": 108,
   "metadata": {},
   "outputs": [
    {
     "data": {
      "image/png": "[encoded data removed]",
      "text/plain": [
       "<Figure size 432x288 with 1 Axes>"
      ]
     },
     "metadata": {
      "needs_background": "light"
     },
     "output_type": "display_data"
    }
   ],
   "source": [
    "# LOWEST T\n",
    "correlation(0.12,0,32)\n",
    "\n",
    "\n",
    "# LOWER\n",
    "correlation(0.1,0,32)"
   ]
  },
  {
   "cell_type": "code",
   "execution_count": null,
   "metadata": {},
   "outputs": [],
   "source": []
  }
 ],
 "metadata": {
  "kernelspec": {
   "display_name": "Python 3",
   "language": "python",
   "name": "python3"
  },
  "language_info": {
   "codemirror_mode": {
    "name": "ipython",
    "version": 3
   },
   "file_extension": ".py",
   "mimetype": "text/x-python",
   "name": "python",
   "nbconvert_exporter": "python",
   "pygments_lexer": "ipython3",
   "version": "3.7.4"
  }
 },
 "nbformat": 4,
 "nbformat_minor": 4
}
